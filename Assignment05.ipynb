{
  "nbformat": 4,
  "nbformat_minor": 0,
  "metadata": {
    "colab": {
      "provenance": [],
      "authorship_tag": "ABX9TyPF25VSRQLJjIISO3aIYxOC",
      "include_colab_link": true
    },
    "kernelspec": {
      "name": "python3",
      "display_name": "Python 3"
    },
    "language_info": {
      "name": "python"
    }
  },
  "cells": [
    {
      "cell_type": "markdown",
      "metadata": {
        "id": "view-in-github",
        "colab_type": "text"
      },
      "source": [
        "<a href=\"https://colab.research.google.com/github/Seoyoung0519/DataStruture_Assignment05/blob/main/Assignment05.ipynb\" target=\"_parent\"><img src=\"https://colab.research.google.com/assets/colab-badge.svg\" alt=\"Open In Colab\"/></a>"
      ]
    },
    {
      "cell_type": "markdown",
      "source": [
        "# 문제 1번.LeetCode 225\n"
      ],
      "metadata": {
        "id": "LSfQ8zBnJjcB"
      }
    },
    {
      "cell_type": "code",
      "execution_count": 15,
      "metadata": {
        "id": "JWaWjXgUJf7v"
      },
      "outputs": [],
      "source": [
        "class MyStack:\n",
        "\n",
        "    def __init__(self):\n",
        "         self.q = []\n",
        "\n",
        "    def push(self, x: int) -> None:\n",
        "        self.q.append(x)\n",
        "        # 새로 넣은 x를 맨 앞으로 보내 스택 순서 유지\n",
        "        for _ in range(len(self.q) - 1):\n",
        "            self.q.append(self.q.pop(0))\n",
        "\n",
        "    def pop(self) -> int:\n",
        "        if not self.empty():\n",
        "            return self.q.pop(0)\n",
        "\n",
        "    def top(self) -> int:\n",
        "        if not self.empty():\n",
        "            return self.q[0]\n",
        "\n",
        "    def empty(self) -> bool:\n",
        "        return len(self.q) == 0"
      ]
    },
    {
      "cell_type": "markdown",
      "source": [
        "# 문제 2번.LeetCode 232\n"
      ],
      "metadata": {
        "id": "0R57Kt4TL71Z"
      }
    },
    {
      "cell_type": "code",
      "source": [
        "class MyQueue:\n",
        "\n",
        "    def __init__(self):\n",
        "        self.stack1 = []\n",
        "        self.stack2 = []\n",
        "\n",
        "    def push(self, x: int) -> None:\n",
        "        self.stack1.append(x)\n",
        "\n",
        "    def pop(self) -> int:\n",
        "        if not self.stack2:\n",
        "            while self.stack1:\n",
        "                self.stack2.append(self.stack1.pop())\n",
        "        return self.stack2.pop()\n",
        "\n",
        "    def peek(self) -> int:\n",
        "        if not self.stack2:\n",
        "            while self.stack1:\n",
        "                self.stack2.append(self.stack1.pop())\n",
        "        return self.stack2[-1]\n",
        "\n",
        "    def empty(self) -> bool:\n",
        "        return not self.stack1 and not self.stack2"
      ],
      "metadata": {
        "id": "AHgaJ3h0MJuO"
      },
      "execution_count": 6,
      "outputs": []
    },
    {
      "cell_type": "markdown",
      "source": [
        "# 문제 3번. [Chapter 07 큐]"
      ],
      "metadata": {
        "id": "7gB89ZJ1L8d_"
      }
    },
    {
      "cell_type": "markdown",
      "source": [
        "## 01"
      ],
      "metadata": {
        "id": "JOIOZHiRTBfL"
      }
    },
    {
      "cell_type": "code",
      "source": [
        "class ListQueue:\n",
        "    def __init__(self):\n",
        "        self.__queue = []\n",
        "\n",
        "    # 리스트 맨 앞이 tail\n",
        "    def enqueue(self, x):\n",
        "        self.__queue.insert(0, x)  # 리스트 앞에 삽입\n",
        "\n",
        "    # 리스트 맨 끝이 front\n",
        "    def dequeue(self):\n",
        "        if self.isEmpty():\n",
        "            return None\n",
        "        return self.__queue.pop()  # 리스트 뒤에서 삭제 후 반환\n",
        "\n",
        "    def front(self):\n",
        "        if self.isEmpty():\n",
        "            return None\n",
        "        return self.__queue[-1]  # 리스트 뒤쪽 값 반환\n",
        "\n",
        "    def isEmpty(self) -> bool:\n",
        "        return len(self.__queue) == 0\n",
        "\n",
        "    def dequeueAll(self):\n",
        "        self.__queue.clear()"
      ],
      "metadata": {
        "id": "OtkACNbSTEcm"
      },
      "execution_count": 13,
      "outputs": []
    },
    {
      "cell_type": "markdown",
      "source": [
        "## 02."
      ],
      "metadata": {
        "id": "5EwRUzq8THKl"
      }
    },
    {
      "cell_type": "code",
      "source": [
        "def check_w_dollar_w(s):\n",
        "    q = []\n",
        "    i = 0\n",
        "\n",
        "    # 첫 번째 w부분 큐에 저장\n",
        "    while i < len(s) and s[i] != '$':\n",
        "        q.append(s[i])\n",
        "        i += 1\n",
        "\n",
        "    # 만약 $ 없으면 실패\n",
        "    if i == len(s):\n",
        "        return False\n",
        "\n",
        "    i += 1  # $ 지나감\n",
        "    check_idx = 0   # 큐에서 비교할 위치 인덱스\n",
        "\n",
        "    # 두 번째 w부분 비교\n",
        "    while i < len(s):\n",
        "        if check_idx >= len(q):   # 비교할 원소 없는데 문자열이 남아있으면 실패\n",
        "            return False\n",
        "        if s[i] != q[check_idx]:\n",
        "            return False\n",
        "        i += 1\n",
        "        check_idx += 1\n",
        "\n",
        "    # 비교 다 끝났는데 큐에 남은 원소가 있다면 실패\n",
        "    if check_idx != len(q):\n",
        "        return False\n",
        "    return True"
      ],
      "metadata": {
        "id": "lD0dLzoDTLQm"
      },
      "execution_count": 14,
      "outputs": []
    },
    {
      "cell_type": "markdown",
      "source": [
        "## 03."
      ],
      "metadata": {
        "id": "CwQrXXKsXvDl"
      }
    },
    {
      "cell_type": "code",
      "source": [
        "# a의 내용을 b로 복사하는 함수\n",
        "def copyQueue(a: LinkedQueue) -> LinkedQueue:\n",
        "    b = LinkedQueue()  # 새로운 큐 생성\n",
        "\n",
        "    # a의 데이터를 앞에서부터 차례로 가져오기\n",
        "    for i in range(a._LinkedQueue__queue.size()):\n",
        "        data = a._LinkedQueue__queue.get(i)  # i번째 데이터 읽기\n",
        "        b.enqueue(data)  # b 큐에 추가\n",
        "\n",
        "    return b  # 복사한 큐 리턴"
      ],
      "metadata": {
        "id": "pbP8c4zsXxgy"
      },
      "execution_count": null,
      "outputs": []
    },
    {
      "cell_type": "markdown",
      "source": [
        "## 04."
      ],
      "metadata": {
        "id": "hrcKa8wmZC0K"
      }
    },
    {
      "cell_type": "code",
      "source": [
        "class StackUsingTwoQueues:\n",
        "    def __init__(self):\n",
        "        self.q1 = []  # 리스트로 큐 역할\n",
        "        self.q2 = []\n",
        "\n",
        "    # push는 그냥 q1에 넣기\n",
        "    def push(self, x):\n",
        "        self.q1.append(x)\n",
        "\n",
        "    # pop은 마지막 원소 남기고 q2로 옮긴 뒤 마지막 원소 pop(0)로 제거\n",
        "    def pop(self):\n",
        "        while len(self.q1) > 1:\n",
        "            self.q2.append(self.q1.pop(0))  # 맨 앞 원소 꺼내서 q2에 넣기\n",
        "\n",
        "        res = self.q1.pop(0)  # 마지막 원소 꺼내기 (stack pop 느낌)\n",
        "\n",
        "        # 큐 역할 교체\n",
        "        self.q1, self.q2 = self.q2, self.q1\n",
        "\n",
        "        return res"
      ],
      "metadata": {
        "id": "F0Ey6NTqZEAP"
      },
      "execution_count": 10,
      "outputs": []
    },
    {
      "cell_type": "markdown",
      "source": [
        "## 05."
      ],
      "metadata": {
        "id": "BcvkemICau90"
      }
    },
    {
      "cell_type": "code",
      "source": [
        "class QueueUsingTwoStacks:\n",
        "    def __init__(self):\n",
        "        self.s1 = []  # 입력용 스택\n",
        "        self.s2 = []  # 출력용 스택\n",
        "\n",
        "    # 큐 enqueue 연산\n",
        "    def enqueue(self, x):\n",
        "        self.s1.append(x)  # 그냥 s1에 넣기\n",
        "\n",
        "    # 큐 dequeue 연산\n",
        "    def dequeue(self):\n",
        "        # s2가 비어있으면 s1의 원소를 모두 뒤집어서 s2로 옮기기\n",
        "        if not self.s2:\n",
        "            while self.s1:\n",
        "                self.s2.append(self.s1.pop())\n",
        "\n",
        "        # s2에서 pop (큐의 앞쪽 원소)\n",
        "        if self.s2:\n",
        "            return self.s2.pop()\n",
        "        else:\n",
        "            return None  # 큐가 비어있을 때\n"
      ],
      "metadata": {
        "id": "UmoKce3_ayja"
      },
      "execution_count": 11,
      "outputs": []
    },
    {
      "cell_type": "markdown",
      "source": [
        "## 06.\n",
        "\n",
        "enqueue( )의 수행 시간은 O(1)이고 dequeue( )의 수행 시간 또한 O(1)이다."
      ],
      "metadata": {
        "id": "ZeAkzKRzdJjB"
      }
    },
    {
      "cell_type": "markdown",
      "source": [
        "## 07.\n",
        "\n",
        "enqueue( )의 수행 시간은 O(1)이다.\n",
        "dequeue( )의 수행 시간 같은 경우 dequeue( )가 큐의 맨 앞에서 이루어지는 경우 수행 시간은 O(1)이고, 큐의 맨 뒤에서 이루어지는 경우 수행 시간은 O(n)이다."
      ],
      "metadata": {
        "id": "F_fH3NRddM1r"
      }
    },
    {
      "cell_type": "markdown",
      "source": [
        "## 08."
      ],
      "metadata": {
        "id": "khDoWLt7ewdt"
      }
    },
    {
      "cell_type": "code",
      "source": [
        "class Deque:\n",
        "    def __init__(self):\n",
        "        self.__queue = []\n",
        "\n",
        "    # 앞쪽 삽입\n",
        "    def enqueueFront(self, x):\n",
        "        self.__queue.insert(0, x)  # 리스트 맨 앞에 삽입\n",
        "\n",
        "    # 뒤쪽 삽입\n",
        "    def enqueueRear(self, x):\n",
        "        self.__queue.append(x)     # 리스트 맨 뒤에 삽입\n",
        "\n",
        "    # 앞쪽 삭제\n",
        "    def dequeueFront(self):\n",
        "        if self.isEmpty():\n",
        "            return None\n",
        "        return self.__queue.pop(0)  # 맨 앞 원소 삭제 후 반환\n",
        "\n",
        "    # 뒤쪽 삭제\n",
        "    def dequeueRear(self):\n",
        "        if self.isEmpty():\n",
        "            return None\n",
        "        return self.__queue.pop()   # 맨 뒤 원소 삭제 후 반환\n",
        "\n",
        "    # 앞 원소 확인\n",
        "    def front(self):\n",
        "        if self.isEmpty():\n",
        "            return None\n",
        "        return self.__queue[0]\n",
        "\n",
        "    # 뒤 원소 확인\n",
        "    def rear(self):\n",
        "        if self.isEmpty():\n",
        "            return None\n",
        "        return self.__queue[-1]\n",
        "\n",
        "    # 비어있는지 확인\n",
        "    def isEmpty(self) -> bool:\n",
        "        return len(self.__queue) == 0\n",
        "\n",
        "    # 전부 삭제\n",
        "    def dequeueAll(self):\n",
        "        self.__queue.clear()\n",
        "\n",
        "    # 출력\n",
        "    def printDeque(self):\n",
        "        print(\"Deque from front:\", end=' ')\n",
        "        for i in range(len(self.__queue)):\n",
        "            print(self.__queue[i], end=' ')\n",
        "        print()"
      ],
      "metadata": {
        "id": "xtzNJ0S9dNYp"
      },
      "execution_count": 12,
      "outputs": []
    }
  ]
}